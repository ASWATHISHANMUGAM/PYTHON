{
 "cells": [
  {
   "cell_type": "code",
   "execution_count": null,
   "id": "518b2f84",
   "metadata": {},
   "outputs": [],
   "source": [
    "for num in range(0,20):\n",
    "    print(num)"
   ]
  },
  {
   "cell_type": "code",
   "execution_count": null,
   "id": "aec85f7d",
   "metadata": {},
   "outputs": [],
   "source": [
    "for num in range(10,20):\n",
    "    print(num, end=\" \")"
   ]
  },
  {
   "cell_type": "code",
   "execution_count": null,
   "id": "43c155a8",
   "metadata": {},
   "outputs": [],
   "source": [
    "list = [10 , 20 , 14 , 55 , 43 , 87 , 76]\n",
    "print(list)\n",
    "print(\"Number of items in my List\")\n",
    "print(len(list))"
   ]
  },
  {
   "cell_type": "code",
   "execution_count": null,
   "id": "db4a6fca",
   "metadata": {},
   "outputs": [],
   "source": [
    "print(\"Artificial Intelligence\")\n",
    "list = \"Artificial Intelligence\"\n",
    "for num in list:\n",
    "    print(num)"
   ]
  },
  {
   "cell_type": "code",
   "execution_count": null,
   "id": "1aef24bc",
   "metadata": {},
   "outputs": [],
   "source": [
    "print(\"-Your Name-\\n-Your Age-\\n-Your profession-\")\n"
   ]
  },
  {
   "cell_type": "code",
   "execution_count": null,
   "id": "25e139ac",
   "metadata": {},
   "outputs": [],
   "source": [
    "tuple = (1, 'welcome', 2, 'HOPE')\n",
    "print(tuple)"
   ]
  },
  {
   "cell_type": "code",
   "execution_count": null,
   "id": "f0496508",
   "metadata": {},
   "outputs": [],
   "source": [
    "tuple = (0, 1, 2, 3 )\n",
    "print(tuple,end = \"('python','HOPE')\")\n"
   ]
  },
  {
   "cell_type": "code",
   "execution_count": null,
   "id": "359e0656",
   "metadata": {},
   "outputs": [],
   "source": [
    "my_list = [1, 2, 3, 4, 5, 6, 7, 8, 9, 10]\n",
    "\n",
    "for number in my_list:\n",
    "    if number % 2 != 0:\n",
    "        print(number)\n",
    "\n"
   ]
  },
  {
   "cell_type": "code",
   "execution_count": null,
   "id": "a16d9e6a",
   "metadata": {},
   "outputs": [],
   "source": [
    "lists = (20 , 10, 16, 19 , 25, 1, 276, 188)\n",
    "print(lists)\n",
    "for num in lists:\n",
    "    \n",
    "    if (num % 2 == 1):\n",
    "        print(num,\"is odd\")"
   ]
  },
  {
   "cell_type": "code",
   "execution_count": null,
   "id": "e47f237e",
   "metadata": {},
   "outputs": [],
   "source": [
    "lists = (20,10,16,19,25,1,276,188)\n",
    "print(lists)\n",
    "for num in lists:\n",
    "    if(num % 2 == 0):\n",
    "        print(num,\"is even\")\n"
   ]
  },
  {
   "cell_type": "code",
   "execution_count": 6,
   "id": "45a02b75",
   "metadata": {},
   "outputs": [
    {
     "name": "stdout",
     "output_type": "stream",
     "text": [
      "-your Name-\n",
      "-your Age-\n",
      "-your Proffesion-\n"
     ]
    }
   ],
   "source": [
    "lists = (\"-your Name-\\n-your Age-\\n-your Proffesion-\\n\")\n",
    "for i in lists:\n",
    "    \n",
    "    print(i,end = \"\")"
   ]
  },
  {
   "cell_type": "code",
   "execution_count": null,
   "id": "fe5609e0",
   "metadata": {},
   "outputs": [],
   "source": []
  }
 ],
 "metadata": {
  "kernelspec": {
   "display_name": "Python 3 (ipykernel)",
   "language": "python",
   "name": "python3"
  },
  "language_info": {
   "codemirror_mode": {
    "name": "ipython",
    "version": 3
   },
   "file_extension": ".py",
   "mimetype": "text/x-python",
   "name": "python",
   "nbconvert_exporter": "python",
   "pygments_lexer": "ipython3",
   "version": "3.11.5"
  }
 },
 "nbformat": 4,
 "nbformat_minor": 5
}
