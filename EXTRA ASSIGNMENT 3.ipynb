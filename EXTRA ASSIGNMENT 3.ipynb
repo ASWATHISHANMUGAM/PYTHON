{
 "cells": [
  {
   "cell_type": "code",
   "execution_count": 1,
   "id": "ae959b4a",
   "metadata": {},
   "outputs": [
    {
     "name": "stdout",
     "output_type": "stream",
     "text": [
      "ENTER A NUMBER:10\n",
      "correct\n"
     ]
    }
   ],
   "source": [
    "i = int(input(\"ENTER A NUMBER:\"))\n",
    "if ( i == 10):\n",
    "    print(\"correct\")\n",
    "else:\n",
    "    print(\"wrong\")"
   ]
  },
  {
   "cell_type": "code",
   "execution_count": 2,
   "id": "006f3a87",
   "metadata": {},
   "outputs": [
    {
     "name": "stdout",
     "output_type": "stream",
     "text": [
      "ENTER YOUR PASSWORD:HOPE@123\n",
      "Your password is correct\n"
     ]
    }
   ],
   "source": [
    "i = input(\"ENTER YOUR PASSWORD:\")\n",
    "if (i == \"HOPE@123\"):\n",
    "    print(\"Your password is correct\")\n",
    "else:\n",
    "    print(\"Your password is wrong\")"
   ]
  },
  {
   "cell_type": "code",
   "execution_count": 4,
   "id": "03b0d021",
   "metadata": {},
   "outputs": [
    {
     "name": "stdout",
     "output_type": "stream",
     "text": [
      "ENTER YOUR AGE:20\n",
      "Adult\n"
     ]
    }
   ],
   "source": [
    "age = int(input(\"ENTER YOUR AGE:\"))\n",
    "if(age < 18):\n",
    "    print(\"Children\")\n",
    "elif(age < 29):\n",
    "    print(\"Adult\")\n",
    "elif(age < 45):\n",
    "    print(\"Citizen\")\n",
    "else:\n",
    "    print(\"Senior Citizen\")"
   ]
  },
  {
   "cell_type": "code",
   "execution_count": 5,
   "id": "235820cf",
   "metadata": {},
   "outputs": [
    {
     "name": "stdout",
     "output_type": "stream",
     "text": [
      "ENTER ANY NUMBER:1\n",
      "No is possitive\n"
     ]
    }
   ],
   "source": [
    "num = int(input(\"ENTER ANY NUMBER:\"))\n",
    "if(num < 0):\n",
    "    print(\"No is Negative\")\n",
    "else:\n",
    "    print(\"No is possitive\")"
   ]
  },
  {
   "cell_type": "code",
   "execution_count": 6,
   "id": "db0effbf",
   "metadata": {},
   "outputs": [
    {
     "name": "stdout",
     "output_type": "stream",
     "text": [
      "ENTER ANY NUMBER22\n",
      "No is not divisible by 5\n"
     ]
    }
   ],
   "source": [
    "num = int(input(\"ENTER ANY NUMBER\"))\n",
    "if(num % 5 == 0):\n",
    "    print(\"No is divisible by 5\")\n",
    "else:\n",
    "    print(\"No is not divisible by 5\")"
   ]
  },
  {
   "cell_type": "code",
   "execution_count": null,
   "id": "ec056163",
   "metadata": {},
   "outputs": [],
   "source": []
  }
 ],
 "metadata": {
  "kernelspec": {
   "display_name": "Python 3 (ipykernel)",
   "language": "python",
   "name": "python3"
  },
  "language_info": {
   "codemirror_mode": {
    "name": "ipython",
    "version": 3
   },
   "file_extension": ".py",
   "mimetype": "text/x-python",
   "name": "python",
   "nbconvert_exporter": "python",
   "pygments_lexer": "ipython3",
   "version": "3.11.5"
  }
 },
 "nbformat": 4,
 "nbformat_minor": 5
}
