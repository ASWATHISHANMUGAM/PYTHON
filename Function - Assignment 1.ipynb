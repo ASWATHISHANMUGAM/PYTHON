{
 "cells": [
  {
   "cell_type": "code",
   "execution_count": 67,
   "id": "3af2b397",
   "metadata": {},
   "outputs": [],
   "source": [
    "lists =[\"Sub fields in AI are:\",\"Machine Learning\", \"Neural Networks\" ,\"Vision\" ,\"Robotics\" ,\"Speech Processing\" ,\"Natural Language Processing\"]"
   ]
  },
  {
   "cell_type": "code",
   "execution_count": 68,
   "id": "0aa509d1",
   "metadata": {},
   "outputs": [],
   "source": [
    "def Subfields():\n",
    "    for field in lists:\n",
    "        print(field)"
   ]
  },
  {
   "cell_type": "code",
   "execution_count": 69,
   "id": "ab4cc13e",
   "metadata": {},
   "outputs": [
    {
     "name": "stdout",
     "output_type": "stream",
     "text": [
      "Sub fields in AI are:\n",
      "Machine Learning\n",
      "Neural Networks\n",
      "Vision\n",
      "Robotics\n",
      "Speech Processing\n",
      "Natural Language Processing\n"
     ]
    }
   ],
   "source": [
    "Subfields()"
   ]
  },
  {
   "cell_type": "code",
   "execution_count": 44,
   "id": "3277c102",
   "metadata": {},
   "outputs": [],
   "source": [
    "def OddEven():\n",
    "    num = int(input(\"Enter a number\"))\n",
    "    if(num % 2 == 0):\n",
    "        print(num,\"is Even number\")\n",
    "        message = \"is Even number\"\n",
    "    else:\n",
    "        print(num,\"is Odd number\")\n",
    "        message = \"is Odd number\"\n",
    "        return message"
   ]
  },
  {
   "cell_type": "code",
   "execution_count": 70,
   "id": "8fafba5a",
   "metadata": {},
   "outputs": [
    {
     "name": "stdout",
     "output_type": "stream",
     "text": [
      "Enter a number4\n",
      "4 is Even number\n"
     ]
    }
   ],
   "source": [
    "OddEven()"
   ]
  },
  {
   "cell_type": "code",
   "execution_count": 38,
   "id": "e75203ff",
   "metadata": {},
   "outputs": [],
   "source": [
    "def Eligible():\n",
    "    gender = (input('Your gender:'))\n",
    "    age = int(input(\"Your Age:\"))\n",
    "    if(gender == \"Male\"):\n",
    "        if(age <= 21):\n",
    "            print( \"NOT ELIGIBLE\")\n",
    "        else:\n",
    "            print( \"ELIGIBLE\")\n",
    "    elif(gender == \"Female\"):\n",
    "        if(age <= 18):\n",
    "            print( \"NOT ELIGIBLE\")\n",
    "        else:\n",
    "            print( \"ELIGIBLE\")\n",
    "    else:\n",
    "            print( \"INVALID INPUT FROM USER\")\n",
    "    "
   ]
  },
  {
   "cell_type": "code",
   "execution_count": 71,
   "id": "b0815d20",
   "metadata": {},
   "outputs": [
    {
     "name": "stdout",
     "output_type": "stream",
     "text": [
      "Your gender:Male\n",
      "Your Age:18\n",
      "NOT ELIGIBLE\n"
     ]
    }
   ],
   "source": [
    "Eligible()"
   ]
  },
  {
   "cell_type": "code",
   "execution_count": 40,
   "id": "76224abe",
   "metadata": {},
   "outputs": [],
   "source": [
    "def percentage():\n",
    "    s1 = int(input(\"Subject1 = \"))\n",
    "    s2 = int(input(\"Subject2 = \"))\n",
    "    s3 = int(input(\"Subject3 = \"))\n",
    "    s4 = int(input(\"Subject4 = \"))\n",
    "    s5 = int(input(\"Subject5 = \"))\n",
    "    total = s1+s2+s3+s4+s5\n",
    "    print(\"total : \",total)\n",
    "    per = total / 500 * 100\n",
    "    print(\"Percentage :\",per)"
   ]
  },
  {
   "cell_type": "code",
   "execution_count": 72,
   "id": "a10bee52",
   "metadata": {},
   "outputs": [
    {
     "name": "stdout",
     "output_type": "stream",
     "text": [
      "Subject1 = 23\n",
      "Subject2 = 45\n",
      "Subject3 = 34\n",
      "Subject4 = 23\n",
      "Subject5 = 23\n",
      "total :  148\n",
      "Percentage : 29.599999999999998\n"
     ]
    }
   ],
   "source": [
    "percentage()"
   ]
  },
  {
   "cell_type": "code",
   "execution_count": 46,
   "id": "62ce24f2",
   "metadata": {},
   "outputs": [],
   "source": [
    "def triangle():\n",
    "    height = int(input(\"Height:\"))\n",
    "    breadth = int(input(\"Breadth:\"))\n",
    "    area = (height * breadth) / 2\n",
    "    print(\"Area formula = (height * breadth) / 2\")\n",
    "    print (\"Area of triangle = \",area)\n",
    "    height1 = int(input(\"Height1:\"))\n",
    "    height2 = int(input(\"Height2:\"))\n",
    "    breadth1 = int(input(\"Breadth1:\"))\n",
    "    perimeter = height1 + height2 + breadth1\n",
    "    print(\" perimeter = height1 + height2 + breadth1\")\n",
    "    print (\"Perimeter of Triangle :\",perimeter)"
   ]
  },
  {
   "cell_type": "code",
   "execution_count": 73,
   "id": "fa82cddf",
   "metadata": {},
   "outputs": [
    {
     "name": "stdout",
     "output_type": "stream",
     "text": [
      "Height:3\n",
      "Breadth:4\n",
      "Area formula = (height * breadth) / 2\n",
      "Area of triangle =  6.0\n",
      "Height1:3\n",
      "Height2:4\n",
      "Breadth1:45\n",
      " perimeter = height1 + height2 + breadth1\n",
      "Perimeter of Triangle : 52\n"
     ]
    }
   ],
   "source": [
    "triangle()"
   ]
  },
  {
   "cell_type": "code",
   "execution_count": null,
   "id": "79b8ac3c",
   "metadata": {},
   "outputs": [],
   "source": []
  }
 ],
 "metadata": {
  "kernelspec": {
   "display_name": "Python 3 (ipykernel)",
   "language": "python",
   "name": "python3"
  },
  "language_info": {
   "codemirror_mode": {
    "name": "ipython",
    "version": 3
   },
   "file_extension": ".py",
   "mimetype": "text/x-python",
   "name": "python",
   "nbconvert_exporter": "python",
   "pygments_lexer": "ipython3",
   "version": "3.11.5"
  }
 },
 "nbformat": 4,
 "nbformat_minor": 5
}
