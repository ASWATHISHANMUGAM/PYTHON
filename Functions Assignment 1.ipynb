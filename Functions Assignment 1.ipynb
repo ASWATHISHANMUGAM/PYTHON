{
 "cells": [
  {
   "cell_type": "code",
   "execution_count": 1,
   "id": "d6802d0f",
   "metadata": {},
   "outputs": [],
   "source": [
    "def Subfields():\n",
    "    lists =[\"Sub fields in AI are:\",\"Machine Learning\", \"Neural Networks\" ,\"Vision\" ,\"Robotics\" ,\"Speech Processing\" ,\"Natural Language Processing\"]\n",
    "    for field in lists:\n",
    "        print(field)"
   ]
  },
  {
   "cell_type": "code",
   "execution_count": 2,
   "id": "a1bba335",
   "metadata": {},
   "outputs": [
    {
     "name": "stdout",
     "output_type": "stream",
     "text": [
      "Sub fields in AI are:\n",
      "Machine Learning\n",
      "Neural Networks\n",
      "Vision\n",
      "Robotics\n",
      "Speech Processing\n",
      "Natural Language Processing\n"
     ]
    }
   ],
   "source": [
    "Subfields()"
   ]
  },
  {
   "cell_type": "code",
   "execution_count": 3,
   "id": "063dff24",
   "metadata": {},
   "outputs": [],
   "source": [
    "def OddEven():\n",
    "    num = int(input(\"Enter a number\"))\n",
    "    if(num % 2 == 0):\n",
    "        print(num,\"is Even number\")\n",
    "        message = \"is Even number\"\n",
    "    else:\n",
    "        print(num,\"is Odd number\")\n",
    "        message = \"is Odd number\"\n",
    "        return message"
   ]
  },
  {
   "cell_type": "code",
   "execution_count": 4,
   "id": "72660db9",
   "metadata": {},
   "outputs": [
    {
     "name": "stdout",
     "output_type": "stream",
     "text": [
      "Enter a number4\n",
      "4 is Even number\n"
     ]
    }
   ],
   "source": [
    "OddEven()"
   ]
  },
  {
   "cell_type": "code",
   "execution_count": 5,
   "id": "4b7df1b5",
   "metadata": {},
   "outputs": [],
   "source": [
    "def Eligible():\n",
    "    gender = (input('Your gender:')).lower()\n",
    "    age = int(input(\"Your Age:\"))\n",
    "    if(gender == \"male\") and (age >= 21 ):\n",
    "        print( \"ELIGIBLE\")\n",
    "    elif(gender == \"female\") and(age >= 18):\n",
    "        print(\"ELIGIBLE\")\n",
    "    else:\n",
    "        print(\"NOT ELIGIBLE\")\n",
    "\n",
    "    "
   ]
  },
  {
   "cell_type": "code",
   "execution_count": 6,
   "id": "37bdeaf5",
   "metadata": {},
   "outputs": [
    {
     "name": "stdout",
     "output_type": "stream",
     "text": [
      "Your gender:male\n",
      "Your Age:18\n",
      "NOT ELIGIBLE\n"
     ]
    }
   ],
   "source": [
    "Eligible()"
   ]
  },
  {
   "cell_type": "code",
   "execution_count": 7,
   "id": "df933d35",
   "metadata": {},
   "outputs": [],
   "source": [
    "def percentage():\n",
    "    s1 = int(input(\"Subject1 = \"))\n",
    "    s2 = int(input(\"Subject2 = \"))\n",
    "    s3 = int(input(\"Subject3 = \"))\n",
    "    s4 = int(input(\"Subject4 = \"))\n",
    "    s5 = int(input(\"Subject5 = \"))\n",
    "    total = s1+s2+s3+s4+s5\n",
    "    print(\"Total : \",total)\n",
    "    per = total / 5\n",
    "    print(\"Percentage :\",per)"
   ]
  },
  {
   "cell_type": "code",
   "execution_count": 8,
   "id": "82705208",
   "metadata": {},
   "outputs": [
    {
     "name": "stdout",
     "output_type": "stream",
     "text": [
      "Subject1 = 23\n",
      "Subject2 = 45\n",
      "Subject3 = 34\n",
      "Subject4 = 23\n",
      "Subject5 = 23\n",
      "Total :  148\n",
      "Percentage : 29.6\n"
     ]
    }
   ],
   "source": [
    "percentage()"
   ]
  },
  {
   "cell_type": "code",
   "execution_count": 9,
   "id": "9cc84497",
   "metadata": {},
   "outputs": [],
   "source": [
    "def triangle():\n",
    "    height = int(input(\"Height:\"))\n",
    "    breadth = int(input(\"Breadth:\"))\n",
    "    area = (height * breadth) / 2\n",
    "    print(\"Area formula = (height * breadth) / 2\")\n",
    "    print (\"Area of triangle = \",area)\n",
    "    height1 = int(input(\"Height1:\"))\n",
    "    height2 = int(input(\"Height2:\"))\n",
    "    breadth1 = int(input(\"Breadth1:\"))\n",
    "    perimeter = height1 + height2 + breadth1\n",
    "    print(\"Perimeter = height1 + height2 + breadth1\")\n",
    "    print (\"Perimeter of Triangle :\",perimeter)"
   ]
  },
  {
   "cell_type": "code",
   "execution_count": 10,
   "id": "8345f067",
   "metadata": {},
   "outputs": [
    {
     "name": "stdout",
     "output_type": "stream",
     "text": [
      "Height:3\n",
      "Breadth:4\n",
      "Area formula = (height * breadth) / 2\n",
      "Area of triangle =  6.0\n",
      "Height1:3\n",
      "Height2:4\n",
      "Breadth1:45\n",
      "Perimeter = height1 + height2 + breadth1\n",
      "Perimeter of Triangle : 52\n"
     ]
    }
   ],
   "source": [
    "triangle()"
   ]
  },
  {
   "cell_type": "code",
   "execution_count": null,
   "id": "b5c2b349",
   "metadata": {},
   "outputs": [],
   "source": []
  }
 ],
 "metadata": {
  "kernelspec": {
   "display_name": "Python 3 (ipykernel)",
   "language": "python",
   "name": "python3"
  },
  "language_info": {
   "codemirror_mode": {
    "name": "ipython",
    "version": 3
   },
   "file_extension": ".py",
   "mimetype": "text/x-python",
   "name": "python",
   "nbconvert_exporter": "python",
   "pygments_lexer": "ipython3",
   "version": "3.11.5"
  }
 },
 "nbformat": 4,
 "nbformat_minor": 5
}
