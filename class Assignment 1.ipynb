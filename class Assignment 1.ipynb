{
 "cells": [
  {
   "cell_type": "code",
   "execution_count": 15,
   "id": "d6802d0f",
   "metadata": {},
   "outputs": [],
   "source": [
    "class SubfieldInAI():\n",
    "    def Subfields():\n",
    "        lists =[\"Sub fields in AI are:\",\"Machine Learning\", \"Neural Networks\" ,\"Vision\" ,\"Robotics\" ,\"Speech Processing\" ,\"Natural Language Processing\"]\n",
    "        for field in lists:\n",
    "            print(field)"
   ]
  },
  {
   "cell_type": "code",
   "execution_count": 16,
   "id": "a1bba335",
   "metadata": {},
   "outputs": [
    {
     "name": "stdout",
     "output_type": "stream",
     "text": [
      "Sub fields in AI are:\n",
      "Machine Learning\n",
      "Neural Networks\n",
      "Vision\n",
      "Robotics\n",
      "Speech Processing\n",
      "Natural Language Processing\n"
     ]
    }
   ],
   "source": [
    "SubfieldInAI.Subfields()"
   ]
  },
  {
   "cell_type": "code",
   "execution_count": 17,
   "id": "063dff24",
   "metadata": {},
   "outputs": [],
   "source": [
    "class OddEven():\n",
    "    def OddEven():\n",
    "        num = int(input(\"Enter a number\"))\n",
    "        if(num % 2 == 0):\n",
    "            print(num,\"is Even number\")\n",
    "            message = \"is Even number\"\n",
    "        else:\n",
    "            print(num,\"is Odd number\")\n",
    "            message = \"is Odd number\""
   ]
  },
  {
   "cell_type": "code",
   "execution_count": 5,
   "id": "72660db9",
   "metadata": {},
   "outputs": [
    {
     "name": "stdout",
     "output_type": "stream",
     "text": [
      "Enter a number52452\n",
      "52452 is Even number\n"
     ]
    }
   ],
   "source": [
    "OddEven.OddEven()"
   ]
  },
  {
   "cell_type": "code",
   "execution_count": 7,
   "id": "4b7df1b5",
   "metadata": {},
   "outputs": [],
   "source": [
    "class EligibilityForMarriage():\n",
    "    def Eligible():\n",
    "        gender = (input('Your gender:')).lower()\n",
    "        age = int(input(\"Your Age:\"))\n",
    "        if(gender == \"male\") and (age >= 21 ):\n",
    "            print( \"ELIGIBLE\")\n",
    "        elif(gender == \"female\") and(age >= 18):\n",
    "            print(\"ELIGIBLE\")\n",
    "        else:\n",
    "            print(\"NOT ELIGIBLE\")\n",
    "\n",
    "    "
   ]
  },
  {
   "cell_type": "code",
   "execution_count": 9,
   "id": "37bdeaf5",
   "metadata": {},
   "outputs": [
    {
     "name": "stdout",
     "output_type": "stream",
     "text": [
      "Your gender:male\n",
      "Your Age:20\n",
      "NOT ELIGIBLE\n"
     ]
    }
   ],
   "source": [
    "EligibilityForMarriage.Eligible()"
   ]
  },
  {
   "cell_type": "code",
   "execution_count": 10,
   "id": "df933d35",
   "metadata": {},
   "outputs": [],
   "source": [
    "class FindPercent():\n",
    "    def percentage():\n",
    "        s1 = int(input(\"Subject1 = \"))\n",
    "        s2 = int(input(\"Subject2 = \"))\n",
    "        s3 = int(input(\"Subject3 = \"))\n",
    "        s4 = int(input(\"Subject4 = \"))\n",
    "        s5 = int(input(\"Subject5 = \"))\n",
    "        total = s1+s2+s3+s4+s5\n",
    "        print(\"Total : \",total)\n",
    "        per = total / 5\n",
    "        print(\"Percentage :\",per)"
   ]
  },
  {
   "cell_type": "code",
   "execution_count": 11,
   "id": "82705208",
   "metadata": {},
   "outputs": [
    {
     "name": "stdout",
     "output_type": "stream",
     "text": [
      "Subject1 = 98\n",
      "Subject2 = 87\n",
      "Subject3 = 95\n",
      "Subject4 = 95\n",
      "Subject5 = 93\n",
      "Total :  468\n",
      "Percentage : 93.6\n"
     ]
    }
   ],
   "source": [
    "FindPercent.percentage()"
   ]
  },
  {
   "cell_type": "code",
   "execution_count": 13,
   "id": "9cc84497",
   "metadata": {},
   "outputs": [],
   "source": [
    "class triangle():\n",
    "    def triangle():\n",
    "        height = int(input(\"Height:\"))\n",
    "        breadth = int(input(\"Breadth:\"))\n",
    "        area = (height * breadth) / 2\n",
    "        print(\"Area formula = (height * breadth) / 2\")\n",
    "        print (\"Area of triangle = \",area)\n",
    "        height1 = int(input(\"Height1:\"))\n",
    "        height2 = int(input(\"Height2:\"))\n",
    "        breadth1 = int(input(\"Breadth1:\"))\n",
    "        perimeter = height1 + height2 + breadth1\n",
    "        print(\"Perimeter = height1 + height2 + breadth1\")\n",
    "        print (\"Perimeter of Triangle :\",perimeter)"
   ]
  },
  {
   "cell_type": "code",
   "execution_count": 14,
   "id": "8345f067",
   "metadata": {},
   "outputs": [
    {
     "name": "stdout",
     "output_type": "stream",
     "text": [
      "Height:32\n",
      "Breadth:34\n",
      "Area formula = (height * breadth) / 2\n",
      "Area of triangle =  544.0\n",
      "Height1:2\n",
      "Height2:4\n",
      "Breadth1:4\n",
      "Perimeter = height1 + height2 + breadth1\n",
      "Perimeter of Triangle : 10\n"
     ]
    }
   ],
   "source": [
    "triangle.triangle()"
   ]
  },
  {
   "cell_type": "code",
   "execution_count": null,
   "id": "b5c2b349",
   "metadata": {},
   "outputs": [],
   "source": []
  }
 ],
 "metadata": {
  "kernelspec": {
   "display_name": "Python 3 (ipykernel)",
   "language": "python",
   "name": "python3"
  },
  "language_info": {
   "codemirror_mode": {
    "name": "ipython",
    "version": 3
   },
   "file_extension": ".py",
   "mimetype": "text/x-python",
   "name": "python",
   "nbconvert_exporter": "python",
   "pygments_lexer": "ipython3",
   "version": "3.11.5"
  }
 },
 "nbformat": 4,
 "nbformat_minor": 5
}
