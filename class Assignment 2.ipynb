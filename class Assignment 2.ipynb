{
 "cells": [
  {
   "cell_type": "code",
   "execution_count": 5,
   "id": "267c9063",
   "metadata": {},
   "outputs": [
    {
     "name": "stdout",
     "output_type": "stream",
     "text": [
      "Sub fields in AI are:\n",
      "Machine Learning\n",
      "Neural Networks\n",
      "Vision\n",
      "Robotics\n",
      "Speech Processing\n",
      "Natural Language Processing\n"
     ]
    }
   ],
   "source": [
    "from classfunction import Multiplefunction\n",
    "Multiplefunction.Subfields()"
   ]
  },
  {
   "cell_type": "code",
   "execution_count": 6,
   "id": "dcb8b47a",
   "metadata": {},
   "outputs": [
    {
     "name": "stdout",
     "output_type": "stream",
     "text": [
      "Enter a number52452\n",
      "52452 is Even number\n"
     ]
    }
   ],
   "source": [
    "Multiplefunction.OddEven()"
   ]
  },
  {
   "cell_type": "code",
   "execution_count": 7,
   "id": "a58c9ba4",
   "metadata": {},
   "outputs": [
    {
     "name": "stdout",
     "output_type": "stream",
     "text": [
      "Your gender:MALE\n",
      "Your Age:18\n",
      "NOT ELIGIBLE\n"
     ]
    }
   ],
   "source": [
    "Multiplefunction.Eligible()"
   ]
  },
  {
   "cell_type": "code",
   "execution_count": 8,
   "id": "7b900d34",
   "metadata": {},
   "outputs": [
    {
     "name": "stdout",
     "output_type": "stream",
     "text": [
      "Subject1 = 98\n",
      "Subject2 = 87\n",
      "Subject3 = 95\n",
      "Subject4 = 95\n",
      "Subject5 = 93\n",
      "Total :  468\n",
      "Percentage : 93.6\n"
     ]
    }
   ],
   "source": [
    "Multiplefunction.percentage()"
   ]
  },
  {
   "cell_type": "code",
   "execution_count": 9,
   "id": "755aa396",
   "metadata": {},
   "outputs": [
    {
     "name": "stdout",
     "output_type": "stream",
     "text": [
      "Height:32\n",
      "Breadth:34\n",
      "Area formula = (height * breadth) / 2\n",
      "Area of triangle =  544.0\n",
      "Height1:2\n",
      "Height2:2\n",
      "Breadth1:4\n",
      "Perimeter = height1 + height2 + breadth1\n",
      "Perimeter of Triangle : 8\n"
     ]
    }
   ],
   "source": [
    "Multiplefunction.triangle()"
   ]
  },
  {
   "cell_type": "code",
   "execution_count": null,
   "id": "465fc458",
   "metadata": {},
   "outputs": [],
   "source": []
  }
 ],
 "metadata": {
  "kernelspec": {
   "display_name": "Python 3 (ipykernel)",
   "language": "python",
   "name": "python3"
  },
  "language_info": {
   "codemirror_mode": {
    "name": "ipython",
    "version": 3
   },
   "file_extension": ".py",
   "mimetype": "text/x-python",
   "name": "python",
   "nbconvert_exporter": "python",
   "pygments_lexer": "ipython3",
   "version": "3.11.5"
  }
 },
 "nbformat": 4,
 "nbformat_minor": 5
}
